{
 "cells": [
  {
   "cell_type": "code",
   "execution_count": 1,
   "metadata": {},
   "outputs": [
    {
     "name": "stderr",
     "output_type": "stream",
     "text": [
      "\u001b[32m\u001b[1m   Building\u001b[22m\u001b[39m FFTW ────────────→ `/srv/julia/pkg/packages/FFTW/DMUbN/deps/build.log`\n",
      "\u001b[32m\u001b[1m   Building\u001b[22m\u001b[39m BioformatsLoader → `~/deps/build.log`\n"
     ]
    }
   ],
   "source": [
    "]build"
   ]
  },
  {
   "cell_type": "code",
   "execution_count": 2,
   "metadata": {
    "scrolled": true
   },
   "outputs": [
    {
     "name": "stderr",
     "output_type": "stream",
     "text": [
      "\u001b[32m\u001b[1m   Updating\u001b[22m\u001b[39m registry at `/srv/julia/pkg/registries/General`\n",
      "\u001b[32m\u001b[1m  Resolving\u001b[22m\u001b[39m package versions...\n",
      "\u001b[32m\u001b[1mNo Changes\u001b[22m\u001b[39m to `~/Project.toml`\n",
      "\u001b[32m\u001b[1mNo Changes\u001b[22m\u001b[39m to `~/Manifest.toml`\n"
     ]
    }
   ],
   "source": [
    "]add Images ImageMagick"
   ]
  },
  {
   "cell_type": "code",
   "execution_count": 3,
   "metadata": {},
   "outputs": [
    {
     "name": "stderr",
     "output_type": "stream",
     "text": [
      "┌ Info: Precompiling Images [916415d5-f1e6-5110-898d-aaa5f9f070e0]\n",
      "└ @ Base loading.jl:1278\n"
     ]
    }
   ],
   "source": [
    "using BioformatsLoader\n",
    "using Images\n",
    "BioformatsLoader.init()"
   ]
  },
  {
   "cell_type": "markdown",
   "metadata": {},
   "source": [
    "The following code downloads an example image from https://downloads.openmicroscopy.org/images/ to the `outdir` directory and displays the license."
   ]
  },
  {
   "cell_type": "code",
   "execution_count": 4,
   "metadata": {},
   "outputs": [
    {
     "name": "stdout",
     "output_type": "stream",
     "text": [
      "Sample Nikon ND2 file (c) by Maxime Woringer\n",
      "\n",
      "See\n",
      "http://lists.openmicroscopy.org.uk/pipermail/ome-users/2017-August/006621.html\n",
      "and https://github.com/openmicroscopy/bioformats/pull/2966.\n",
      "This image contains one single plane of dimensions 164x156.\n",
      "\n",
      "This files is licensed under a\n",
      "Creative Commons Attribution 4.0 International License.\n",
      "\n",
      "You should have received a copy of the license along with this\n",
      "work. If not, see <http://creativecommons.org/licenses/by/4.0/>.\n",
      "\n",
      "Downloaded file:\n",
      "\timages/BF007.nd2\n"
     ]
    }
   ],
   "source": [
    "outdir = \"images\"\n",
    "images_url = \"https://downloads.openmicroscopy.org/images\"\n",
    "mkpath(outdir)\n",
    "filename = mktempdir() do dir\n",
    "    path = \"ND2/maxime/BF007.nd2\"\n",
    "    outpath = joinpath(outdir, basename(path))\n",
    "    file = download(\"$images_url/$path\", outpath)\n",
    "    readmefile = download(\"$images_url/$(dirname(path))/readme.txt\", joinpath(dir, \"readme.txt\"))\n",
    "    readme = open(readmefile) do txt\n",
    "        read(txt, String)\n",
    "    end\n",
    "    print(readme)\n",
    "    file\n",
    "end\n",
    "println(\"\\nDownloaded file:\\n\\t$filename\")"
   ]
  },
  {
   "cell_type": "code",
   "execution_count": 5,
   "metadata": {},
   "outputs": [
    {
     "data": {
      "text/plain": [
       "1-element Array{String,1}:\n",
       " \"BF007.nd2\""
      ]
     },
     "execution_count": 5,
     "metadata": {},
     "output_type": "execute_result"
    }
   ],
   "source": [
    "readdir(outdir)"
   ]
  },
  {
   "cell_type": "code",
   "execution_count": 6,
   "metadata": {},
   "outputs": [
    {
     "data": {
      "text/plain": [
       "1"
      ]
     },
     "metadata": {},
     "output_type": "display_data"
    }
   ],
   "source": [
    "images = bf_import(filename)\n",
    "display(length(images))"
   ]
  },
  {
   "cell_type": "code",
   "execution_count": 7,
   "metadata": {},
   "outputs": [
    {
     "data": {
      "text/plain": [
       "(1, 1, 156, 164, 1)"
      ]
     },
     "metadata": {},
     "output_type": "display_data"
    }
   ],
   "source": [
    "display(size(images[1]))"
   ]
  },
  {
   "cell_type": "code",
   "execution_count": 8,
   "metadata": {},
   "outputs": [
    {
     "data": {
      "text/plain": [
       "Dict{Symbol,Any} with 5 entries:\n",
       "  :ObjectiveSettings => Dict{Symbol,Any}(:ID=>\"Objective:0:0\",:RefractiveIndex=…\n",
       "  :ID                => \"Image:0\"\n",
       "  :InstrumentRef     => Dict{Symbol,Any}(:ID=>\"Instrument:0\")\n",
       "  :Pixels            => Dict{Symbol,Any}(:SizeZ=>1,:ID=>\"Pixels:0\",:SizeY=>156,…\n",
       "  :Name              => \"BF007.nd2 (series 1)\""
      ]
     },
     "metadata": {},
     "output_type": "display_data"
    },
    {
     "name": "stderr",
     "output_type": "stream",
     "text": [
      "┌ Info: Precompiling ImageMagick [6218d12a-5da1-5696-b52f-db25d2ecc6d1]\n",
      "└ @ Base loading.jl:1278\n"
     ]
    },
    {
     "data": {
      "image/png": "[encoded data removed]",
      "text/plain": [
       "Gray ImageMeta with:\n",
       "  data: 156×164 Array{Gray{N0f16},2} with eltype Gray{Normed{UInt16,16}}\n",
       "  properties:"
      ]
     },
     "metadata": {},
     "output_type": "display_data"
    }
   ],
   "source": [
    "display(properties(images[1]))\n",
    "display(Gray.(reinterpret.(N0f16, images[1]))[1,1,:,:,1])"
   ]
  }
 ],
 "metadata": {
  "kernelspec": {
   "display_name": "Julia 1.5.2",
   "language": "julia",
   "name": "julia-1.5"
  },
  "language_info": {
   "file_extension": ".jl",
   "mimetype": "application/julia",
   "name": "julia",
   "version": "1.5.2"
  }
 },
 "nbformat": 4,
 "nbformat_minor": 4
}
