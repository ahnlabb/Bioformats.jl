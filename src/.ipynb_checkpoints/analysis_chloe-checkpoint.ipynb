{
 "cells": [
  {
   "cell_type": "code",
   "execution_count": 1,
   "metadata": {
    "collapsed": true,
    "deletable": true,
    "editable": true
   },
   "outputs": [],
   "source": [
    "push!(LOAD_PATH, \"/Users/Espenel/Documents/BioformatsLoader.jl\");"
   ]
  },
  {
   "cell_type": "code",
   "execution_count": 2,
   "metadata": {
    "collapsed": true,
    "deletable": true,
    "editable": true
   },
   "outputs": [],
   "source": [
    "#include(\"./src/julia_bioformats.jl\")"
   ]
  },
  {
   "cell_type": "code",
   "execution_count": 3,
   "metadata": {
    "collapsed": false,
    "deletable": true,
    "editable": true
   },
   "outputs": [
    {
     "name": "stderr",
     "output_type": "stream",
     "text": [
      "┌ Info: Recompiling stale cache file /Users/Espenel/.julia/compiled/v0.7/BioformatsLoader_bis.ji for BioformatsLoader_bis [top-level]\n",
      "└ @ Base loading.jl:1185\n",
      "┌ Warning: `readstring(cmd::AbstractCmd)` is deprecated, use `read(cmd, String)` instead.\n",
      "│   caller = findjvm() at jvm.jl:51\n",
      "└ @ JavaCall ~/.julia/packages/JavaCall/X7Eto/src/jvm.jl:51\n"
     ]
    },
    {
     "name": "stdout",
     "output_type": "stream",
     "text": [
      "Loaded /Library/Java/JavaVirtualMachines/jdk1.8.0_45.jdk/Contents/Home/jre/lib/server/libjvm.dylib\n"
     ]
    },
    {
     "name": "stderr",
     "output_type": "stream",
     "text": [
      "┌ Warning: `readstring(cmd::AbstractCmd)` is deprecated, use `read(cmd, String)` instead.\n",
      "│   caller = findjvm() at jvm.jl:51\n",
      "└ @ JavaCall /Users/Espenel/.julia/packages/JavaCall/X7Eto/src/jvm.jl:51\n"
     ]
    },
    {
     "name": "stdout",
     "output_type": "stream",
     "text": [
      "Loaded /Library/Java/JavaVirtualMachines/jdk1.8.0_45.jdk/Contents/Home/jre/lib/server/libjvm.dylib\n"
     ]
    }
   ],
   "source": [
    "using BioformatsLoader_bis"
   ]
  },
  {
   "cell_type": "code",
   "execution_count": 4,
   "metadata": {
    "collapsed": false,
    "deletable": true,
    "editable": true
   },
   "outputs": [
    {
     "data": {
      "text/plain": [
       "\"test.dv\""
      ]
     },
     "execution_count": 4,
     "metadata": {},
     "output_type": "execute_result"
    }
   ],
   "source": [
    "path = \"test.dv\""
   ]
  },
  {
   "cell_type": "code",
   "execution_count": 5,
   "metadata": {
    "collapsed": false
   },
   "outputs": [
    {
     "ename": "LoadError",
     "evalue": "UndefVarError: starting not defined",
     "output_type": "error",
     "traceback": [
      "UndefVarError: starting not defined",
      "",
      "Stacktrace:",
      " [1] top-level scope at none:0"
     ]
    }
   ],
   "source": [
    "starting(4096)"
   ]
  },
  {
   "cell_type": "code",
   "execution_count": 6,
   "metadata": {
    "collapsed": false,
    "deletable": true,
    "editable": true
   },
   "outputs": [
    {
     "name": "stderr",
     "output_type": "stream",
     "text": [
      "\n",
      "signal (11): Segmentation fault: 11\n",
      "in expression starting at In[6]:1\n",
      "unknown function (ip: 0x123dea2b3)\n",
      "Allocations: 19962388 (Pool: 19958795; Big: 3593); GC: 43\n"
     ]
    },
    {
     "ename": "LoadError",
     "evalue": "JavaCall.JavaCallError(\"Class Not Found loci/common/services/ServiceFactory\")",
     "output_type": "error",
     "traceback": [
      "JavaCall.JavaCallError(\"Class Not Found loci/common/services/ServiceFactory\")",
      "",
      "Stacktrace:",
      " [1] _metaclass(::Symbol) at /Users/Espenel/.julia/packages/JavaCall/X7Eto/src/core.jl:257",
      " [2] metaclass(::Symbol) at /Users/Espenel/.julia/packages/JavaCall/X7Eto/src/core.jl:263",
      " [3] jnew(::Symbol, ::Tuple{}) at /Users/Espenel/.julia/packages/JavaCall/X7Eto/src/core.jl:126",
      " [4] Type at /Users/Espenel/.julia/packages/JavaCall/X7Eto/src/core.jl:38 [inlined]",
      " [5] create_service(::String) at /Users/Espenel/Documents/BioformatsLoader.jl/src/BioformatsLoader_bis.jl:27",
      " [6] BioformatsLoader_bis.OMEXMLReader() at /Users/Espenel/Documents/BioformatsLoader.jl/src/BioformatsLoader_bis.jl:39",
      " [7] #metadata#7(::IJulia.IJuliaStdio{Base.PipeEndpoint}, ::Function, ::String) at /Users/Espenel/Documents/BioformatsLoader.jl/src/BioformatsLoader_bis.jl:153",
      " [8] metadata(::String) at /Users/Espenel/Documents/BioformatsLoader.jl/src/BioformatsLoader_bis.jl:149",
      " [9] top-level scope at none:0"
     ]
    }
   ],
   "source": [
    "meta, x ,y = metadata(path);"
   ]
  },
  {
   "cell_type": "code",
   "execution_count": 7,
   "metadata": {
    "collapsed": false,
    "deletable": true,
    "editable": true
   },
   "outputs": [
    {
     "ename": "LoadError",
     "evalue": "UndefVarError: x not defined",
     "output_type": "error",
     "traceback": [
      "UndefVarError: x not defined",
      ""
     ]
    }
   ],
   "source": [
    "x"
   ]
  },
  {
   "cell_type": "code",
   "execution_count": null,
   "metadata": {
    "collapsed": true,
    "deletable": true,
    "editable": true
   },
   "outputs": [],
   "source": [
    "using LightXML"
   ]
  },
  {
   "cell_type": "code",
   "execution_count": null,
   "metadata": {
    "collapsed": false,
    "deletable": true,
    "editable": true
   },
   "outputs": [],
   "source": [
    "?colon"
   ]
  },
  {
   "cell_type": "code",
   "execution_count": null,
   "metadata": {
    "collapsed": false,
    "deletable": true,
    "editable": true
   },
   "outputs": [],
   "source": [
    "zeros(6)"
   ]
  },
  {
   "cell_type": "code",
   "execution_count": null,
   "metadata": {
    "collapsed": false,
    "deletable": true,
    "editable": true
   },
   "outputs": [],
   "source": [
    "array = []\n",
    "#for i in 1:6\n",
    "    for a in attributes(x[1][\"Pixels\"][1][\"Plane\"][1])\n",
    "        if name(a) == \"DeltaT\"\n",
    "            #push!(properties, \"T$(i)_$(name(a))\"=> parse(Float64, value(a)))\n",
    "            push!(array,parse(Float64, value(a)))\n",
    "        end\n",
    "    end\n",
    "#end"
   ]
  },
  {
   "cell_type": "code",
   "execution_count": null,
   "metadata": {
    "collapsed": false,
    "deletable": true,
    "editable": true
   },
   "outputs": [],
   "source": [
    "array"
   ]
  },
  {
   "cell_type": "code",
   "execution_count": null,
   "metadata": {
    "collapsed": false,
    "deletable": true,
    "editable": true
   },
   "outputs": [],
   "source": [
    "properties[\"T4_DeltaT\"] - properties[\"T3_DeltaT\"]"
   ]
  },
  {
   "cell_type": "code",
   "execution_count": null,
   "metadata": {
    "collapsed": false,
    "deletable": true,
    "editable": true
   },
   "outputs": [],
   "source": [
    "array"
   ]
  },
  {
   "cell_type": "code",
   "execution_count": null,
   "metadata": {
    "collapsed": true,
    "deletable": true,
    "editable": true
   },
   "outputs": [],
   "source": [
    "array_2 = zeros(5)\n",
    "for j in 1:5\n",
    "    array_2[j]= array[j+1]-array[j]\n",
    "end"
   ]
  },
  {
   "cell_type": "code",
   "execution_count": null,
   "metadata": {
    "collapsed": false,
    "deletable": true,
    "editable": true
   },
   "outputs": [],
   "source": [
    "mean(array_2)"
   ]
  },
  {
   "cell_type": "code",
   "execution_count": null,
   "metadata": {
    "collapsed": true,
    "deletable": true,
    "editable": true
   },
   "outputs": [],
   "source": [
    "for a = attributes(x[1][\"Pixels\"][1][\"Plane\"][1])\n",
    "    println(name(a))\n",
    "end"
   ]
  },
  {
   "cell_type": "code",
   "execution_count": null,
   "metadata": {
    "collapsed": true,
    "deletable": true,
    "editable": true
   },
   "outputs": [],
   "source": [
    "for a = attributes(x[1][\"Pixels\"][1][\"Plane\"][1])\n",
    "       # if name(a)== \"DeltaT\" \n",
    "    println(name(a))\n",
    "    #end\n",
    "end"
   ]
  },
  {
   "cell_type": "code",
   "execution_count": null,
   "metadata": {
    "collapsed": false,
    "deletable": true,
    "editable": true
   },
   "outputs": [],
   "source": [
    "properties"
   ]
  },
  {
   "cell_type": "code",
   "execution_count": null,
   "metadata": {
    "collapsed": false,
    "deletable": true,
    "editable": true
   },
   "outputs": [],
   "source": [
    "meta"
   ]
  },
  {
   "cell_type": "code",
   "execution_count": null,
   "metadata": {
    "collapsed": false,
    "deletable": true,
    "editable": true
   },
   "outputs": [],
   "source": [
    "image = open_stack(path);"
   ]
  },
  {
   "cell_type": "code",
   "execution_count": null,
   "metadata": {
    "collapsed": false,
    "deletable": true,
    "editable": true
   },
   "outputs": [],
   "source": [
    "size(image)"
   ]
  },
  {
   "cell_type": "code",
   "execution_count": null,
   "metadata": {
    "collapsed": true,
    "deletable": true,
    "editable": true
   },
   "outputs": [],
   "source": [
    "using Images"
   ]
  },
  {
   "cell_type": "code",
   "execution_count": null,
   "metadata": {
    "collapsed": true,
    "deletable": true,
    "editable": true
   },
   "outputs": [],
   "source": [
    "using Unitful\n",
    "import Unitful: s, µm"
   ]
  },
  {
   "cell_type": "code",
   "execution_count": null,
   "metadata": {
    "collapsed": false,
    "deletable": true,
    "editable": true
   },
   "outputs": [],
   "source": [
    "function im_info(image, meta::Associative{K,V} where {K,V})\n",
    "    X = meta[\"SizeX\"]\n",
    "    Y = meta[\"SizeY\"]\n",
    "    Z = meta[\"SizeZ\"]\n",
    "    T = meta[\"SizeT\"]\n",
    "    Px_S = meta[\"PhysicalSizeX\"]\n",
    "    Step_z = meta[\"PhysicalSizeZ\"]\n",
    "    \n",
    "    imgdd = AxisArray(image,\n",
    "                      Axis{:t}(1:1:T),\n",
    "                      Axis{:z}(0.0µm:(Step_z)µm:(Z-1)*(Step_z)µm),\n",
    "                      Axis{:x}(0.0µm:(Px_S)µm:(X-1)*(Px_S)µm),\n",
    "                      Axis{:y}(0.0µm:(Px_S)µm:(Y-1)*(Px_S)µm),\n",
    "                      Axis{:chan}([:c1, :c2, :c3, :c4]))\n",
    "    return imgdd\n",
    "end"
   ]
  },
  {
   "cell_type": "code",
   "execution_count": null,
   "metadata": {
    "collapsed": false,
    "deletable": true,
    "editable": true
   },
   "outputs": [],
   "source": [
    "im = im_info(image, meta)"
   ]
  },
  {
   "cell_type": "code",
   "execution_count": null,
   "metadata": {
    "collapsed": true,
    "deletable": true,
    "editable": true
   },
   "outputs": [],
   "source": []
  },
  {
   "cell_type": "code",
   "execution_count": null,
   "metadata": {
    "collapsed": false,
    "deletable": true,
    "editable": true
   },
   "outputs": [],
   "source": [
    "Pkg.status()"
   ]
  },
  {
   "cell_type": "code",
   "execution_count": null,
   "metadata": {
    "collapsed": false,
    "deletable": true,
    "editable": true
   },
   "outputs": [],
   "source": [
    "pkg> up Image"
   ]
  },
  {
   "cell_type": "code",
   "execution_count": null,
   "metadata": {
    "collapsed": false,
    "deletable": true,
    "editable": true
   },
   "outputs": [],
   "source": [
    "]"
   ]
  },
  {
   "cell_type": "code",
   "execution_count": null,
   "metadata": {
    "collapsed": true,
    "deletable": true,
    "editable": true
   },
   "outputs": [],
   "source": []
  }
 ],
 "metadata": {
  "anaconda-cloud": {},
  "kernelspec": {
   "display_name": "Julia 0.7.0",
   "language": "julia",
   "name": "julia-0.7"
  },
  "language_info": {
   "file_extension": ".jl",
   "mimetype": "application/julia",
   "name": "julia",
   "version": "0.7.0"
  }
 },
 "nbformat": 4,
 "nbformat_minor": 2
}
